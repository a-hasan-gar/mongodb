{
 "cells": [
  {
   "cell_type": "code",
   "execution_count": 1,
   "metadata": {},
   "outputs": [],
   "source": [
    "import pandas as pd\n",
    "import json\n",
    "import os\n"
   ]
  },
  {
   "cell_type": "code",
   "execution_count": 2,
   "metadata": {},
   "outputs": [],
   "source": [
    "accidents = pd.read_csv('accidents2.csv')"
   ]
  },
  {
   "cell_type": "code",
   "execution_count": 3,
   "metadata": {},
   "outputs": [
    {
     "data": {
      "text/html": [
       "<div>\n",
       "<style scoped>\n",
       "    .dataframe tbody tr th:only-of-type {\n",
       "        vertical-align: middle;\n",
       "    }\n",
       "\n",
       "    .dataframe tbody tr th {\n",
       "        vertical-align: top;\n",
       "    }\n",
       "\n",
       "    .dataframe thead th {\n",
       "        text-align: right;\n",
       "    }\n",
       "</style>\n",
       "<table border=\"1\" class=\"dataframe\">\n",
       "  <thead>\n",
       "    <tr style=\"text-align: right;\">\n",
       "      <th></th>\n",
       "      <th>Accident_Index</th>\n",
       "      <th>Location_Easting_OSGR</th>\n",
       "      <th>Location_Northing_OSGR</th>\n",
       "      <th>Longitude</th>\n",
       "      <th>Latitude</th>\n",
       "      <th>Police_Force</th>\n",
       "      <th>Accident_Severity</th>\n",
       "      <th>Number_of_Vehicles</th>\n",
       "      <th>Number_of_Casualties</th>\n",
       "      <th>Date</th>\n",
       "      <th>...</th>\n",
       "      <th>Pedestrian_Crossing-Physical_Facilities</th>\n",
       "      <th>Light_Conditions</th>\n",
       "      <th>Weather_Conditions</th>\n",
       "      <th>Road_Surface_Conditions</th>\n",
       "      <th>Special_Conditions_at_Site</th>\n",
       "      <th>Carriageway_Hazards</th>\n",
       "      <th>Urban_or_Rural_Area</th>\n",
       "      <th>Did_Police_Officer_Attend_Scene_of_Accident</th>\n",
       "      <th>LSOA_of_Accident_Location</th>\n",
       "      <th>Year</th>\n",
       "    </tr>\n",
       "  </thead>\n",
       "  <tbody>\n",
       "    <tr>\n",
       "      <th>0</th>\n",
       "      <td>200901BS70001</td>\n",
       "      <td>524910</td>\n",
       "      <td>180800</td>\n",
       "      <td>-0.201349</td>\n",
       "      <td>51.512273</td>\n",
       "      <td>1</td>\n",
       "      <td>2</td>\n",
       "      <td>2</td>\n",
       "      <td>1</td>\n",
       "      <td>01/01/2009</td>\n",
       "      <td>...</td>\n",
       "      <td>No physical crossing within 50 meters</td>\n",
       "      <td>Daylight: Street light present</td>\n",
       "      <td>Fine without high winds</td>\n",
       "      <td>Dry</td>\n",
       "      <td>None</td>\n",
       "      <td>None</td>\n",
       "      <td>1</td>\n",
       "      <td>Yes</td>\n",
       "      <td>E01002882</td>\n",
       "      <td>2009</td>\n",
       "    </tr>\n",
       "    <tr>\n",
       "      <th>1</th>\n",
       "      <td>200901BS70002</td>\n",
       "      <td>525050</td>\n",
       "      <td>181040</td>\n",
       "      <td>-0.199248</td>\n",
       "      <td>51.514399</td>\n",
       "      <td>1</td>\n",
       "      <td>2</td>\n",
       "      <td>2</td>\n",
       "      <td>11</td>\n",
       "      <td>05/01/2009</td>\n",
       "      <td>...</td>\n",
       "      <td>Zebra crossing</td>\n",
       "      <td>Daylight: Street light present</td>\n",
       "      <td>Fine without high winds</td>\n",
       "      <td>Wet/Damp</td>\n",
       "      <td>None</td>\n",
       "      <td>None</td>\n",
       "      <td>1</td>\n",
       "      <td>Yes</td>\n",
       "      <td>E01002886</td>\n",
       "      <td>2009</td>\n",
       "    </tr>\n",
       "    <tr>\n",
       "      <th>2</th>\n",
       "      <td>200901BS70003</td>\n",
       "      <td>526490</td>\n",
       "      <td>177990</td>\n",
       "      <td>-0.179599</td>\n",
       "      <td>51.486668</td>\n",
       "      <td>1</td>\n",
       "      <td>3</td>\n",
       "      <td>2</td>\n",
       "      <td>1</td>\n",
       "      <td>04/01/2009</td>\n",
       "      <td>...</td>\n",
       "      <td>No physical crossing within 50 meters</td>\n",
       "      <td>Daylight: Street light present</td>\n",
       "      <td>Fine without high winds</td>\n",
       "      <td>Dry</td>\n",
       "      <td>None</td>\n",
       "      <td>None</td>\n",
       "      <td>1</td>\n",
       "      <td>Yes</td>\n",
       "      <td>E01002912</td>\n",
       "      <td>2009</td>\n",
       "    </tr>\n",
       "    <tr>\n",
       "      <th>3</th>\n",
       "      <td>200901BS70004</td>\n",
       "      <td>524800</td>\n",
       "      <td>180300</td>\n",
       "      <td>-0.203110</td>\n",
       "      <td>51.507804</td>\n",
       "      <td>1</td>\n",
       "      <td>2</td>\n",
       "      <td>2</td>\n",
       "      <td>1</td>\n",
       "      <td>05/01/2009</td>\n",
       "      <td>...</td>\n",
       "      <td>Pedestrian phase at traffic signal junction</td>\n",
       "      <td>Daylight: Street light present</td>\n",
       "      <td>Other</td>\n",
       "      <td>Frost/Ice</td>\n",
       "      <td>None</td>\n",
       "      <td>None</td>\n",
       "      <td>1</td>\n",
       "      <td>Yes</td>\n",
       "      <td>E01002871</td>\n",
       "      <td>2009</td>\n",
       "    </tr>\n",
       "    <tr>\n",
       "      <th>4</th>\n",
       "      <td>200901BS70005</td>\n",
       "      <td>526930</td>\n",
       "      <td>177490</td>\n",
       "      <td>-0.173445</td>\n",
       "      <td>51.482076</td>\n",
       "      <td>1</td>\n",
       "      <td>2</td>\n",
       "      <td>2</td>\n",
       "      <td>1</td>\n",
       "      <td>06/01/2009</td>\n",
       "      <td>...</td>\n",
       "      <td>No physical crossing within 50 meters</td>\n",
       "      <td>Darkness: Street lights present and lit</td>\n",
       "      <td>Fine without high winds</td>\n",
       "      <td>Dry</td>\n",
       "      <td>None</td>\n",
       "      <td>None</td>\n",
       "      <td>1</td>\n",
       "      <td>Yes</td>\n",
       "      <td>E01002840</td>\n",
       "      <td>2009</td>\n",
       "    </tr>\n",
       "  </tbody>\n",
       "</table>\n",
       "<p>5 rows × 33 columns</p>\n",
       "</div>"
      ],
      "text/plain": [
       "  Accident_Index  Location_Easting_OSGR  Location_Northing_OSGR  Longitude  \\\n",
       "0  200901BS70001                 524910                  180800  -0.201349   \n",
       "1  200901BS70002                 525050                  181040  -0.199248   \n",
       "2  200901BS70003                 526490                  177990  -0.179599   \n",
       "3  200901BS70004                 524800                  180300  -0.203110   \n",
       "4  200901BS70005                 526930                  177490  -0.173445   \n",
       "\n",
       "    Latitude  Police_Force  Accident_Severity  Number_of_Vehicles  \\\n",
       "0  51.512273             1                  2                   2   \n",
       "1  51.514399             1                  2                   2   \n",
       "2  51.486668             1                  3                   2   \n",
       "3  51.507804             1                  2                   2   \n",
       "4  51.482076             1                  2                   2   \n",
       "\n",
       "   Number_of_Casualties        Date  ...  \\\n",
       "0                     1  01/01/2009  ...   \n",
       "1                    11  05/01/2009  ...   \n",
       "2                     1  04/01/2009  ...   \n",
       "3                     1  05/01/2009  ...   \n",
       "4                     1  06/01/2009  ...   \n",
       "\n",
       "       Pedestrian_Crossing-Physical_Facilities  \\\n",
       "0        No physical crossing within 50 meters   \n",
       "1                               Zebra crossing   \n",
       "2        No physical crossing within 50 meters   \n",
       "3  Pedestrian phase at traffic signal junction   \n",
       "4        No physical crossing within 50 meters   \n",
       "\n",
       "                          Light_Conditions       Weather_Conditions  \\\n",
       "0           Daylight: Street light present  Fine without high winds   \n",
       "1           Daylight: Street light present  Fine without high winds   \n",
       "2           Daylight: Street light present  Fine without high winds   \n",
       "3           Daylight: Street light present                    Other   \n",
       "4  Darkness: Street lights present and lit  Fine without high winds   \n",
       "\n",
       "  Road_Surface_Conditions  Special_Conditions_at_Site  Carriageway_Hazards  \\\n",
       "0                     Dry                        None                 None   \n",
       "1                Wet/Damp                        None                 None   \n",
       "2                     Dry                        None                 None   \n",
       "3               Frost/Ice                        None                 None   \n",
       "4                     Dry                        None                 None   \n",
       "\n",
       "  Urban_or_Rural_Area  Did_Police_Officer_Attend_Scene_of_Accident  \\\n",
       "0                   1                                          Yes   \n",
       "1                   1                                          Yes   \n",
       "2                   1                                          Yes   \n",
       "3                   1                                          Yes   \n",
       "4                   1                                          Yes   \n",
       "\n",
       "   LSOA_of_Accident_Location  Year  \n",
       "0                  E01002882  2009  \n",
       "1                  E01002886  2009  \n",
       "2                  E01002912  2009  \n",
       "3                  E01002871  2009  \n",
       "4                  E01002840  2009  \n",
       "\n",
       "[5 rows x 33 columns]"
      ]
     },
     "execution_count": 3,
     "metadata": {},
     "output_type": "execute_result"
    }
   ],
   "source": [
    "accidents.head()"
   ]
  },
  {
   "cell_type": "code",
   "execution_count": 4,
   "metadata": {},
   "outputs": [
    {
     "data": {
      "text/plain": [
       "Index(['Accident_Index', 'Location_Easting_OSGR', 'Location_Northing_OSGR',\n",
       "       'Longitude', 'Latitude', 'Police_Force', 'Accident_Severity',\n",
       "       'Number_of_Vehicles', 'Number_of_Casualties', 'Date', 'Day_of_Week',\n",
       "       'Time', 'Local_Authority_(District)', 'Local_Authority_(Highway)',\n",
       "       '1st_Road_Class', '1st_Road_Number', 'Road_Type', 'Speed_limit',\n",
       "       'Junction_Detail', 'Junction_Control', '2nd_Road_Class',\n",
       "       '2nd_Road_Number', 'Pedestrian_Crossing-Human_Control',\n",
       "       'Pedestrian_Crossing-Physical_Facilities', 'Light_Conditions',\n",
       "       'Weather_Conditions', 'Road_Surface_Conditions',\n",
       "       'Special_Conditions_at_Site', 'Carriageway_Hazards',\n",
       "       'Urban_or_Rural_Area', 'Did_Police_Officer_Attend_Scene_of_Accident',\n",
       "       'LSOA_of_Accident_Location', 'Year'],\n",
       "      dtype='object')"
      ]
     },
     "execution_count": 4,
     "metadata": {},
     "output_type": "execute_result"
    }
   ],
   "source": [
    "accidents.columns"
   ]
  },
  {
   "cell_type": "code",
   "execution_count": 5,
   "metadata": {},
   "outputs": [],
   "source": [
    "df_ac=accidents[['Accident_Index','Accident_Severity','Longitude','Latitude','Road_Type','Light_Conditions','Road_Surface_Conditions','Weather_Conditions','Date','Time','Year']]"
   ]
  },
  {
   "cell_type": "code",
   "execution_count": 38,
   "metadata": {},
   "outputs": [
    {
     "data": {
      "text/plain": [
       "array(['200901BS70001', '200901BS70002', '200901BS70003', ...,\n",
       "       '201197UD70602', '201197UD70702', '2.01198E+12'], dtype=object)"
      ]
     },
     "execution_count": 38,
     "metadata": {},
     "output_type": "execute_result"
    }
   ],
   "source": [
    "df_ac._id.unique()"
   ]
  },
  {
   "cell_type": "code",
   "execution_count": 16,
   "metadata": {},
   "outputs": [
    {
     "data": {
      "text/plain": [
       "array(['Dry', 'Wet/Damp', 'Frost/Ice', 'Snow',\n",
       "       'Flood (Over 3cm of water)', nan], dtype=object)"
      ]
     },
     "execution_count": 16,
     "metadata": {},
     "output_type": "execute_result"
    }
   ],
   "source": [
    "df_ac.Road_Surface_Conditions.unique()"
   ]
  },
  {
   "cell_type": "code",
   "execution_count": 9,
   "metadata": {},
   "outputs": [
    {
     "data": {
      "text/plain": [
       "array(['Fine without high winds', 'Other', 'Raining without high winds',\n",
       "       'Snowing without high winds', 'Fine with high winds',\n",
       "       'Raining with high winds', 'Unknown', 'Snowing with high winds',\n",
       "       'Fog or mist', nan], dtype=object)"
      ]
     },
     "execution_count": 9,
     "metadata": {},
     "output_type": "execute_result"
    }
   ],
   "source": [
    "df_ac.Weather_Conditions.unique()"
   ]
  },
  {
   "cell_type": "code",
   "execution_count": 10,
   "metadata": {},
   "outputs": [
    {
     "data": {
      "text/plain": [
       "array(['Daylight: Street light present',\n",
       "       'Darkness: Street lights present and lit',\n",
       "       'Darkness: Street lighting unknown',\n",
       "       'Darkness: Street lights present but unlit',\n",
       "       'Darkeness: No street lighting'], dtype=object)"
      ]
     },
     "execution_count": 10,
     "metadata": {},
     "output_type": "execute_result"
    }
   ],
   "source": [
    "df_ac.Light_Conditions.unique()"
   ]
  },
  {
   "cell_type": "code",
   "execution_count": 24,
   "metadata": {},
   "outputs": [
    {
     "data": {
      "text/plain": [
       "0         2\n",
       "1         2\n",
       "2         3\n",
       "3         2\n",
       "4         2\n",
       "5         3\n",
       "6         2\n",
       "7         3\n",
       "8         3\n",
       "9         3\n",
       "10        3\n",
       "11        3\n",
       "12        3\n",
       "13        3\n",
       "14        3\n",
       "15        2\n",
       "16        3\n",
       "17        3\n",
       "18        3\n",
       "19        3\n",
       "20        3\n",
       "21        3\n",
       "22        2\n",
       "23        3\n",
       "24        3\n",
       "25        2\n",
       "26        3\n",
       "27        3\n",
       "28        3\n",
       "29        3\n",
       "         ..\n",
       "469412    3\n",
       "469413    2\n",
       "469414    3\n",
       "469415    3\n",
       "469416    3\n",
       "469417    3\n",
       "469418    3\n",
       "469419    3\n",
       "469420    3\n",
       "469421    3\n",
       "469422    3\n",
       "469423    3\n",
       "469424    3\n",
       "469425    3\n",
       "469426    2\n",
       "469427    3\n",
       "469428    2\n",
       "469429    1\n",
       "469430    3\n",
       "469431    2\n",
       "469432    3\n",
       "469433    3\n",
       "469434    3\n",
       "469435    3\n",
       "469436    3\n",
       "469437    3\n",
       "469438    2\n",
       "469439    3\n",
       "469440    3\n",
       "469441    3\n",
       "Name: Accident_Severity, Length: 469442, dtype: int64"
      ]
     },
     "execution_count": 24,
     "metadata": {},
     "output_type": "execute_result"
    }
   ],
   "source": [
    "df_ac.Accident_Severity"
   ]
  },
  {
   "cell_type": "code",
   "execution_count": 6,
   "metadata": {},
   "outputs": [
    {
     "name": "stderr",
     "output_type": "stream",
     "text": [
      "D:\\Anaconda\\lib\\site-packages\\pandas\\core\\generic.py:5096: SettingWithCopyWarning: \n",
      "A value is trying to be set on a copy of a slice from a DataFrame.\n",
      "Try using .loc[row_indexer,col_indexer] = value instead\n",
      "\n",
      "See the caveats in the documentation: http://pandas.pydata.org/pandas-docs/stable/indexing.html#indexing-view-versus-copy\n",
      "  self[name] = value\n"
     ]
    }
   ],
   "source": [
    "df_ac.Accident_Severity= df_ac.Accident_Severity.replace(to_replace=[1,2,3], value=['Fatal','Serious','Slight'])"
   ]
  },
  {
   "cell_type": "code",
   "execution_count": 49,
   "metadata": {
    "scrolled": true
   },
   "outputs": [
    {
     "data": {
      "text/plain": [
       "Accident_Index             469442\n",
       "Accident_Severity          469442\n",
       "Longitude                  469442\n",
       "Latitude                   469442\n",
       "Road_Type                  469442\n",
       "Light_Conditions           469442\n",
       "Road_Surface_Conditions    468901\n",
       "Weather_Conditions         469336\n",
       "Date                       469442\n",
       "Time                       469405\n",
       "Year                       469442\n",
       "dtype: int64"
      ]
     },
     "execution_count": 49,
     "metadata": {},
     "output_type": "execute_result"
    }
   ],
   "source": [
    "df_ac.count()"
   ]
  },
  {
   "cell_type": "code",
   "execution_count": 7,
   "metadata": {},
   "outputs": [],
   "source": [
    "df_drop=df_ac.dropna()"
   ]
  },
  {
   "cell_type": "code",
   "execution_count": 9,
   "metadata": {},
   "outputs": [
    {
     "data": {
      "text/plain": [
       "False"
      ]
     },
     "execution_count": 9,
     "metadata": {},
     "output_type": "execute_result"
    }
   ],
   "source": [
    "df_drop.isnull().values.any()"
   ]
  },
  {
   "cell_type": "code",
   "execution_count": 12,
   "metadata": {},
   "outputs": [
    {
     "data": {
      "text/plain": [
       "468760"
      ]
     },
     "execution_count": 12,
     "metadata": {},
     "output_type": "execute_result"
    }
   ],
   "source": [
    "len(df_drop)"
   ]
  },
  {
   "cell_type": "code",
   "execution_count": null,
   "metadata": {},
   "outputs": [],
   "source": []
  },
  {
   "cell_type": "code",
   "execution_count": 13,
   "metadata": {},
   "outputs": [],
   "source": [
    "value_id =[]\n",
    "for i in range(569168,1037928):\n",
    "    value_id.insert(i,i)"
   ]
  },
  {
   "cell_type": "code",
   "execution_count": 14,
   "metadata": {},
   "outputs": [
    {
     "data": {
      "text/plain": [
       "468760"
      ]
     },
     "execution_count": 14,
     "metadata": {},
     "output_type": "execute_result"
    }
   ],
   "source": [
    "len(value_id)"
   ]
  },
  {
   "cell_type": "code",
   "execution_count": 15,
   "metadata": {},
   "outputs": [],
   "source": [
    "df_drop.insert(0,\"_id\",value_id,True)"
   ]
  },
  {
   "cell_type": "code",
   "execution_count": 16,
   "metadata": {},
   "outputs": [
    {
     "data": {
      "text/plain": [
       "False"
      ]
     },
     "execution_count": 16,
     "metadata": {},
     "output_type": "execute_result"
    }
   ],
   "source": [
    "df_drop.isnull().values.any()"
   ]
  },
  {
   "cell_type": "code",
   "execution_count": 17,
   "metadata": {},
   "outputs": [],
   "source": [
    "dfjson2=df_drop.to_json(orient='records')"
   ]
  },
  {
   "cell_type": "code",
   "execution_count": 18,
   "metadata": {},
   "outputs": [],
   "source": [
    "dfjson2_load = json.loads(dfjson2)"
   ]
  },
  {
   "cell_type": "code",
   "execution_count": 20,
   "metadata": {},
   "outputs": [],
   "source": [
    "df_new =[]\n",
    "count= 0"
   ]
  },
  {
   "cell_type": "code",
   "execution_count": 21,
   "metadata": {},
   "outputs": [],
   "source": [
    "for i in dfjson2_load:\n",
    "    name={\n",
    "        '_id': i['_id'],\n",
    "        'Accident_Index': i['Accident_Index'],\n",
    "        'Accident_Severity':i['Accident_Severity'],\n",
    "        'Location':{\n",
    "            'coordinates':[i['Longitude'],i['Latitude']],\n",
    "            'type':\"Point\"\n",
    "        },\n",
    "        'Road_Type': i['Road_Type'],\n",
    "        'Light_Conditions': i['Light_Conditions'],\n",
    "        'Road_Surface_Conditions': i['Road_Surface_Conditions'],\n",
    "        'Weather_Conditions':i['Weather_Conditions'],\n",
    "        'Date':i['Date'],\n",
    "        'Time': i['Time'],\n",
    "        'Year':i['Year']\n",
    "        \n",
    "    }\n",
    "    df_new.insert(count,name)\n",
    "    count+=1"
   ]
  },
  {
   "cell_type": "code",
   "execution_count": 22,
   "metadata": {},
   "outputs": [
    {
     "data": {
      "text/plain": [
       "468760"
      ]
     },
     "execution_count": 22,
     "metadata": {},
     "output_type": "execute_result"
    }
   ],
   "source": [
    "len(df_new)"
   ]
  },
  {
   "cell_type": "code",
   "execution_count": 23,
   "metadata": {},
   "outputs": [],
   "source": [
    "with open('accidents2s.json', 'w') as json_file:\n",
    "    for row in df_new:\n",
    "        json_file.write(json.dumps(row,indent=4))"
   ]
  }
 ],
 "metadata": {
  "kernelspec": {
   "display_name": "Python 3",
   "language": "python",
   "name": "python3"
  },
  "language_info": {
   "codemirror_mode": {
    "name": "ipython",
    "version": 3
   },
   "file_extension": ".py",
   "mimetype": "text/x-python",
   "name": "python",
   "nbconvert_exporter": "python",
   "pygments_lexer": "ipython3",
   "version": "3.7.3"
  }
 },
 "nbformat": 4,
 "nbformat_minor": 2
}
